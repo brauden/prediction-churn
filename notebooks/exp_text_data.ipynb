{
 "cells": [
  {
   "cell_type": "code",
   "execution_count": null,
   "metadata": {},
   "outputs": [],
   "source": [
    "from google.colab import drive\n",
    "drive.mount('/content/drive')\n",
    "\n",
    "%cd /content/drive/MyDrive/Capstone/proofpoint/notebooks"
   ]
  },
  {
   "cell_type": "code",
   "execution_count": null,
   "metadata": {},
   "outputs": [],
   "source": [
    "!pip install mlflow --quiet\n",
    "!pip install pyngrok --quiet"
   ]
  },
  {
   "cell_type": "code",
   "execution_count": 1,
   "metadata": {
    "collapsed": true
   },
   "outputs": [],
   "source": [
    "from src_imdb import load_imdb\n",
    "from src_imdb import HyperParams\n",
    "from src_imdb import train_val\n",
    "from src_imdb import distillation\n",
    "from src_imdb import predict_batch\n",
    "\n",
    "import sklearn\n",
    "import mlflow\n",
    "from collections import Counter\n",
    "import numpy as np\n",
    "\n",
    "import torch\n",
    "\n",
    "\n",
    "import nltk\n",
    "nltk.download('stopwords')\n",
    "\n",
    "import os\n",
    "os.makedirs(\"resources\", exist_ok=True)\n",
    "CHECKPOINT_FOLDER = \"./saved_model\""
   ]
  },
  {
   "cell_type": "code",
   "execution_count": null,
   "metadata": {},
   "outputs": [],
   "source": [
    "org_hyperparams = HyperParams.HyperParams()\n",
    "org_hyperparams.OPTIM = 'rmsprop'\n",
    "org_hyperparams.LR = 0.001\n",
    "org_hyperparams.BIDIRECTIONAL = True\n",
    "_ = train_val.train_and_test_model_with_hparams(org_hyperparams, \"lstm_teacher\")"
   ]
  },
  {
   "cell_type": "code",
   "execution_count": 26,
   "metadata": {},
   "outputs": [],
   "source": [
    "org_hyperparams = HyperParams.HyperParams()\n",
    "org_hyperparams.OPTIM = 'rmsprop'\n",
    "org_hyperparams.LR = 0.001\n",
    "org_hyperparams.BIDIRECTIONAL = True\n",
    "_ = train_val.train_and_test_model_with_hparams(org_hyperparams,\"lstm_old\", new_data= 35_000)"
   ]
  },
  {
   "cell_type": "code",
   "execution_count": 45,
   "metadata": {},
   "outputs": [],
   "source": [
    "with mlflow.start_run(run_name=\"MLflow on Colab\"):\n",
    "\n",
    "  t_model = torch.load(os.path.join(CHECKPOINT_FOLDER,'bi_lstm_teacher.pth'))\n",
    "  t_model.eval()\n",
    "  mlflow.pytorch.log_model(t_model, \"teacher_model\")\n",
    "\n",
    "  t_test_pred = predict_batch.t_prediction_batch(t_model)\n",
    "  t_test_label = np.argmax(t_test_pred[0],axis = 1)\n",
    "\n",
    "  old_model = torch.load(os.path.join(CHECKPOINT_FOLDER,'lstm_old.pth'))\n",
    "  old_model.eval()\n",
    "  mlflow.pytorch.log_model(old_model, \"old_model\")\n",
    "  \n",
    "  old_test_pred = predict_batch.s_prediction_batch(old_model)\n",
    "  old_test_label = np.argmax(old_test_pred[0],axis = 1)\n",
    "\n",
    "  a = [0.2,0.4,0.6,0.8] #\n",
    "  \n",
    "\n",
    "  for alpha in a:\n",
    "    churn_ratio_lst = {}\n",
    "    churn_lst = {}\n",
    "    win_loss_ratio_lst = {}\n",
    "    # mlflow.s_model.autolog()\n",
    "\n",
    "    distill = distillation.distillation(t_model,alpha)  \n",
    "\n",
    "    org_hyperparams = HyperParams.HyperParams()\n",
    "    org_hyperparams.OPTIM = 'rmsprop'\n",
    "    org_hyperparams.BIDIRECTIONAL = True\n",
    "    org_hyperparams.LR = 0.001\n",
    "\n",
    "    train_val.train_and_test_model_with_hparams(org_hyperparams, f\"lstm_student_alpha_{alpha}\",\n",
    "                                                    new_data= 35_000,distil=distill[0])\n",
    "\n",
    "    s_model = torch.load(os.path.join(CHECKPOINT_FOLDER,f\"lstm_student_alpha_{alpha}.pth\"))\n",
    "\n",
    "    mlflow.pytorch.log_model(s_model, f\"student_model_alpha_{alpha}\")\n",
    "    s_model.eval()\n",
    "    s_test_pred = predict_batch.s_prediction_batch(s_model)\n",
    "    s_test_label = np.argmax(s_test_pred[0],axis = 1)\n",
    "\n",
    "    # churn\n",
    "    churn =round(1 - sklearn.metrics.accuracy_score(t_test_label, s_test_label),3)\n",
    "    metric = f\"churn_alpha_{alpha}\"\n",
    "\n",
    "    churn_lst[metric] = churn\n",
    "\n",
    "    metrics = {**churn_lst}\n",
    "    mlflow.log_metrics(metrics)\n",
    "    \n",
    "    # churn ratio\n",
    "    churn_any =round(1 - sklearn.metrics.accuracy_score(t_test_label, old_test_label),3)\n",
    "\n",
    "    churn_ratio = churn/churn_any\n",
    "    metric_2 = f\"churn_ratio_alpha_{alpha}\"\n",
    "\n",
    "    churn_ratio_lst[metric_2] = churn_ratio\n",
    "\n",
    "    metrics_2 = {**churn_ratio_lst}\n",
    "    mlflow.log_metrics(metrics_2)\n",
    "\n",
    "    # win/loss\n",
    "\n",
    "    s_vs_true_label = s_test_label == s_test_pred[1]\n",
    "    t_vs_true_label = t_test_label == t_test_pred[1]\n",
    "\n",
    "    win_loss = Counter([i[0] for i in zip(s_vs_true_label,t_vs_true_label) if i[0]!=i[1]])\n",
    "\n",
    "    win_loss_ratio = win_loss[True]/win_loss[False]\n",
    "\n",
    "    metric_3 = f\"win_loss_ratio_{alpha}\"\n",
    "\n",
    "    win_loss_ratio_lst[metric_3] = win_loss_ratio\n",
    "\n",
    "    metrics_3 = {**win_loss_ratio_lst}\n",
    "    mlflow.log_metrics(metrics_3)\n",
    "\n",
    "# run tracking UI in the background\n",
    "get_ipython().system_raw(\"mlflow ui --port 5000 &\") # run tracking UI in the background\n",
    "\n",
    "\n",
    "# create remote tunnel using ngrok.com to allow local port access\n",
    "# borrowed from https://colab.research.google.com/github/alfozan/MLflow-GBRT-demo/blob/master/MLflow-GBRT-demo.ipynb#scrollTo=4h3bKHMYUIG6\n",
    "\n",
    "from pyngrok import ngrok\n",
    "\n",
    "# Terminate open tunnels if exist\n",
    "ngrok.kill()\n",
    "\n",
    "# Setting the authtoken (optional)\n",
    "# Get your authtoken from https://dashboard.ngrok.com/auth\n",
    "NGROK_AUTH_TOKEN = \"2G7FjlBCOLo6rD2nAmUP8PQNGeF_49jJ1SVFRxQzkwA6qo1sF\"\n",
    "ngrok.set_auth_token(NGROK_AUTH_TOKEN)\n",
    "\n",
    "# Open an HTTPs tunnel on port 5000 for http://localhost:5000\n",
    "ngrok_tunnel = ngrok.connect(addr=\"5000\", proto=\"http\", bind_tls=True)\n",
    "print(\"MLflow Tracking UI:\", ngrok_tunnel.public_url)"
   ]
  }
 ],
 "metadata": {
  "kernelspec": {
   "display_name": "Python 3.10.6 ('pytorch')",
   "language": "python",
   "name": "python3"
  },
  "language_info": {
   "codemirror_mode": {
    "name": "ipython",
    "version": 3
   },
   "file_extension": ".py",
   "mimetype": "text/x-python",
   "name": "python",
   "nbconvert_exporter": "python",
   "pygments_lexer": "ipython3",
   "version": "3.10.6"
  },
  "vscode": {
   "interpreter": {
    "hash": "341a307c24562a666466d70248cb657d421de1714d4c84bee8cbed8a0d2e0a4b"
   }
  }
 },
 "nbformat": 4,
 "nbformat_minor": 0
}
