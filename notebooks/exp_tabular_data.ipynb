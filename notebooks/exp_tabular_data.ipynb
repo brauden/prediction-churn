{
 "cells": [],
 "metadata": {
  "kernelspec": {
   "display_name": "Python 3.10.6 ('pytorch')",
   "language": "python",
   "name": "python3"
  },
  "language_info": {
   "codemirror_mode": {
    "name": "ipython",
    "version": 3
   },
   "file_extension": ".py",
   "mimetype": "text/x-python",
   "name": "python",
   "nbconvert_exporter": "python",
   "pygments_lexer": "ipython3",
   "version": "3.10.6"
  },
  "vscode": {
   "interpreter": {
    "hash": "341a307c24562a666466d70248cb657d421de1714d4c84bee8cbed8a0d2e0a4b"
   }
  }
 },
 "nbformat": 4,
 "nbformat_minor": 0
}
